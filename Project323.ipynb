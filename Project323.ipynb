{
 "cells": [
  {
   "cell_type": "code",
   "execution_count": 2,
   "id": "777eaeb9-ade2-4698-ae26-493049a5ef22",
   "metadata": {
    "tags": []
   },
   "outputs": [],
   "source": [
    "# !pip install yfinance # run this code to be able to access yfinance library."
   ]
  },
  {
   "cell_type": "code",
   "execution_count": 5,
   "id": "6716cfd1-e0b4-47d1-ab3c-df5022b1102f",
   "metadata": {
    "tags": []
   },
   "outputs": [],
   "source": [
    "import pandas as pd\n",
    "import yfinance as yf\n",
    "import matplotlib.pyplot as plt\n",
    "import numpy as np\n",
    "\n",
    "# Some libraries I thought we would need to use.\n",
    "# Please feel free to add more that are needed"
   ]
  },
  {
   "cell_type": "code",
   "execution_count": null,
   "id": "fe1128c7-31a1-4bc3-baf5-1cf8b06b771c",
   "metadata": {},
   "outputs": [],
   "source": []
  }
 ],
 "metadata": {
  "kernelspec": {
   "display_name": "Python 3 (ipykernel)",
   "language": "python",
   "name": "python3"
  },
  "language_info": {
   "codemirror_mode": {
    "name": "ipython",
    "version": 3
   },
   "file_extension": ".py",
   "mimetype": "text/x-python",
   "name": "python",
   "nbconvert_exporter": "python",
   "pygments_lexer": "ipython3",
   "version": "3.10.8"
  }
 },
 "nbformat": 4,
 "nbformat_minor": 5
}
